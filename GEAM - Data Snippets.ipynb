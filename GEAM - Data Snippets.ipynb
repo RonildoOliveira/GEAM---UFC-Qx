{
 "cells": [
  {
   "cell_type": "markdown",
   "metadata": {},
   "source": [
    "# GEAM - Data Snippets"
   ]
  },
  {
   "cell_type": "markdown",
   "metadata": {},
   "source": [
    "### Salvar as n linhas de um CSV em outro"
   ]
  },
  {
   "cell_type": "code",
   "execution_count": 13,
   "metadata": {},
   "outputs": [],
   "source": [
    "import csv\n",
    "import itertools\n",
    "import os\n",
    "\n",
    "def salvar_n_linhas_csv(diretorio_dataset, diretorio_saida_dataset, n_linhas=10):\n",
    "    file_temp = '_temp.csv'\n",
    "    with open(diretorio_dataset, \"rb\") as f_input, open(diretorio_saida_dataset, \"ab\") as f_output, open(file_temp, \"wb\") as f_temp:\n",
    "        csv_input = csv.reader(f_input)\n",
    "\n",
    "        # Append first 50 rows to file_out\n",
    "        csv.writer(f_output).writerows(itertools.islice(csv_input, 0, n_linhas))\n",
    "\n",
    "        # Write the remaining rows from file_in to file_temp\n",
    "        csv.writer(f_temp).writerows(csv_input)\n",
    "\n",
    "    # Rename f_temp to file_in, first remove existing file_in then rename temp file\n",
    "    #os.remove(file_in)\n",
    "    #os.rename(file_temp, file_in)\n"
   ]
  },
  {
   "cell_type": "code",
   "execution_count": 14,
   "metadata": {},
   "outputs": [],
   "source": [
    "diretorio_dataset = 'dataset/test.csv'\n",
    "diretorio_saida_dataset = 'dataset/test_ed.csv'\n",
    "diretorio_temporario_dataset = 'dataset/_temp.csv'\n",
    "salvar_n_linhas_csv(diretorio_dataset, diretorio_saida_dataset, 105)"
   ]
  },
  {
   "cell_type": "markdown",
   "metadata": {},
   "source": [
    "### Carregar arquivo `ubyte`\n",
    "- Dependencia: `sudo pip install mlxtend`"
   ]
  },
  {
   "cell_type": "code",
   "execution_count": 2,
   "metadata": {},
   "outputs": [
    {
     "name": "stdout",
     "output_type": "stream",
     "text": [
      "Dimensions: 697932 x 784\n",
      "Labels: [ 0  1  2  3  4  5  6  7  8  9 10 11 12 13 14 15 16 17 18 19 20 21 22 23\n",
      " 24 25 26 27 28 29 30 31 32 33 34 35 36 37 38 39 40 41 42 43 44 45 46 47\n",
      " 48 49 50 51 52 53 54 55 56 57 58 59 60 61]\n",
      "Class distribution: [34585 38374 34203 35143 33535 31416 34232 35754 33946 33847  6407  3878\n",
      " 10094  4562  4934  9182  2517  3152 11946  3762  2468  5076  9002  8237\n",
      " 24983  8347  2605  5073 20764  9820 12602  4637  4695  2771  4743  2701\n",
      " 10033  5159  2854 10177 24631  2561  3687  8738  2725  1896  2491 15318\n",
      "  2645 11418  2749  2448  2994 14105  2699 18262  2830  2910  2697  2822\n",
      "  2365  2725]\n"
     ]
    },
    {
     "data": {
      "text/plain": [
       "\"\\nnp.savetxt(fname='images.csv', \\n           X=X, delimiter=',', fmt='%d')\\nnp.savetxt(fname='labels.csv', \\n           X=y, delimiter=',', fmt='%d')\\n\""
      ]
     },
     "execution_count": 2,
     "metadata": {},
     "output_type": "execute_result"
    }
   ],
   "source": [
    "import numpy as np\n",
    "from mlxtend.data import loadlocal_mnist\n",
    "\n",
    "X, y = loadlocal_mnist(\n",
    "        images_path='dataset/emnist-byclass-train-images-idx3-ubyte', \n",
    "        labels_path='dataset/emnist-byclass-train-labels-idx1-ubyte')\n",
    "\n",
    "print('Dimensions: %s x %s' % (X.shape[0], X.shape[1]))\n",
    "\n",
    "print('Labels: %s' % np.unique(y))\n",
    "print('Class distribution: %s' % np.bincount(y))\n",
    "\n",
    "\"\"\"\n",
    "np.savetxt(fname='images.csv', \n",
    "           X=X, delimiter=',', fmt='%d')\n",
    "np.savetxt(fname='labels.csv', \n",
    "           X=y, delimiter=',', fmt='%d')\n",
    "\"\"\""
   ]
  },
  {
   "cell_type": "code",
   "execution_count": null,
   "metadata": {},
   "outputs": [],
   "source": []
  }
 ],
 "metadata": {
  "kernelspec": {
   "display_name": "Python 2",
   "language": "python",
   "name": "python2"
  },
  "language_info": {
   "codemirror_mode": {
    "name": "ipython",
    "version": 2
   },
   "file_extension": ".py",
   "mimetype": "text/x-python",
   "name": "python",
   "nbconvert_exporter": "python",
   "pygments_lexer": "ipython2",
   "version": "2.7.15rc1"
  }
 },
 "nbformat": 4,
 "nbformat_minor": 2
}
