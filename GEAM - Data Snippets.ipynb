{
 "cells": [
  {
   "cell_type": "markdown",
   "metadata": {},
   "source": [
    "# GEAM - Data Snippets"
   ]
  },
  {
   "cell_type": "markdown",
   "metadata": {},
   "source": [
    "### Salvar as n linhas de um CSV em outro"
   ]
  },
  {
   "cell_type": "code",
   "execution_count": 13,
   "metadata": {},
   "outputs": [],
   "source": [
    "import csv\n",
    "import itertools\n",
    "import os\n",
    "\n",
    "def salvar_n_linhas_csv(diretorio_dataset, diretorio_saida_dataset, n_linhas=10):\n",
    "    file_temp = '_temp.csv'\n",
    "    with open(diretorio_dataset, \"rb\") as f_input, open(diretorio_saida_dataset, \"ab\") as f_output, open(file_temp, \"wb\") as f_temp:\n",
    "        csv_input = csv.reader(f_input)\n",
    "\n",
    "        # Append first 50 rows to file_out\n",
    "        csv.writer(f_output).writerows(itertools.islice(csv_input, 0, n_linhas))\n",
    "\n",
    "        # Write the remaining rows from file_in to file_temp\n",
    "        csv.writer(f_temp).writerows(csv_input)\n",
    "\n",
    "    # Rename f_temp to file_in, first remove existing file_in then rename temp file\n",
    "    #os.remove(file_in)\n",
    "    #os.rename(file_temp, file_in)\n"
   ]
  },
  {
   "cell_type": "code",
   "execution_count": 14,
   "metadata": {},
   "outputs": [],
   "source": [
    "diretorio_dataset = 'dataset/test.csv'\n",
    "diretorio_saida_dataset = 'dataset/test_ed.csv'\n",
    "diretorio_temporario_dataset = 'dataset/_temp.csv'\n",
    "salvar_n_linhas_csv(diretorio_dataset, diretorio_saida_dataset, 105)"
   ]
  },
  {
   "cell_type": "code",
   "execution_count": null,
   "metadata": {},
   "outputs": [],
   "source": []
  }
 ],
 "metadata": {
  "kernelspec": {
   "display_name": "Python 2",
   "language": "python",
   "name": "python2"
  },
  "language_info": {
   "codemirror_mode": {
    "name": "ipython",
    "version": 2
   },
   "file_extension": ".py",
   "mimetype": "text/x-python",
   "name": "python",
   "nbconvert_exporter": "python",
   "pygments_lexer": "ipython2",
   "version": "2.7.15rc1"
  }
 },
 "nbformat": 4,
 "nbformat_minor": 2
}
